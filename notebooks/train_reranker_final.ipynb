{
 "cells": [
  {
   "cell_type": "markdown",
   "id": "8b5758e1",
   "metadata": {
    "id": "8b5758e1"
   },
   "source": [
    "# Reelix - Reranker Training"
   ]
  },
  {
   "cell_type": "code",
   "execution_count": null,
   "id": "17df8c88",
   "metadata": {
    "colab": {
     "base_uri": "https://localhost:8080/"
    },
    "id": "17df8c88",
    "outputId": "e30e523c-7807-4f79-d6ae-5f6393814a47"
   },
   "outputs": [
    {
     "name": "stdout",
     "output_type": "stream",
     "text": [
      "Mounted at /content/drive\n"
     ]
    }
   ],
   "source": [
    "from google.colab import drive\n",
    "# Mount Google drive for data/model load & save\n",
    "drive.mount('/content/drive')"
   ]
  },
  {
   "cell_type": "code",
   "execution_count": null,
   "id": "04198599",
   "metadata": {
    "id": "04198599"
   },
   "outputs": [],
   "source": [
    "import os\n",
    "import random\n",
    "import torch\n",
    "\n",
    "# Set up random seeds for reproducibility\n",
    "SEED = 42\n",
    "os.environ[\"PYTHONHASHSEED\"] = str(SEED)\n",
    "random.seed(SEED)\n",
    "torch.manual_seed(SEED)\n",
    "if torch.cuda.is_available():\n",
    "    torch.cuda.manual_seed(SEED)\n",
    "    torch.cuda.manual_seed_all(SEED)\n",
    "    torch.backends.cudnn.deterministic = True\n",
    "    torch.backends.cudnn.benchmark = False"
   ]
  },
  {
   "cell_type": "code",
   "execution_count": null,
   "id": "DKseFqgSKWV2",
   "metadata": {
    "id": "DKseFqgSKWV2"
   },
   "outputs": [],
   "source": [
    "import sys\n",
    "sys.path.append('/content/drive/My Drive/Colab Notebooks/MovieRecs/Reelix Reranker Model')\n",
    "\n",
    "# Import model and dataset builder\n",
    "from reranker_model import RerankerModel\n",
    "from reranker_dataset import TripletDataset"
   ]
  },
  {
   "cell_type": "code",
   "execution_count": null,
   "id": "e7119253",
   "metadata": {
    "colab": {
     "base_uri": "https://localhost:8080/",
     "height": 1000,
     "referenced_widgets": [
      "5ad302f8db9e43118513cfbd3a42ea0e",
      "81fd274d446b4a9980a8f55689aec040",
      "b0a6424336614e63aa4490c7f69ad39d",
      "d625dcf396384cd5ac5665b7d9eb4d89",
      "28f47f77f6e04a76860f694c566e60fc",
      "8d484bda0540497496c1edd7e85fc662",
      "52b29404cf194d99ae190cfc156a5c6b",
      "adaee0b68e7c45cfb1dd124858d4f1d2",
      "e0ba0d23b046446586590a9161bbe4ca",
      "1545127207a84668b759de640330e222",
      "a894670199774ff29fa6b2f1ac7eeb5b",
      "9ac8a1bee9b94dc39d947270232a28c1",
      "a592cf5a3b5e435fae98b1fbe5fd4c55",
      "fd738eb0c1b64071848c92304a8d2a1f",
      "c65e615a9eee455298acd00026e49896",
      "a6d12a797a914235bd1296f341a870a9",
      "7843bf5da7344c2c9d49c6415dc0eca7",
      "93d20956b977470da0136c9c38397510",
      "5cfb07d6e1d04b71a5693000ddc7fc04",
      "5083553d29a048a9bef03b8f08636e65",
      "976a43cb8cc24dd881204f76c5cb7e4b",
      "f37980e92ed04824bd2b7bf76d667089",
      "0aaae90ce9df433691ae0edcfd00c21e",
      "e54b38b2ef87409ca650d6fcbd51e83d",
      "95515135b6454657a7368df24d925627",
      "f56876d33528466da8a694218ef29606",
      "15bb572717f84a60ba6bbe404618051d",
      "48132a252722478fb77747240a5483e8",
      "ea0f48fb72f94c21b054012a736418c0",
      "7b0f953f5682400f858f8ce69a1bcdcd",
      "cfb028275edb436fa6738b8e0a82dcca",
      "c83d515d91244d3ebfb80bf0598672d9",
      "009e0be7b2f54db2b1319bb433c089d4",
      "9554a0e06af94630826e92a3ee782755",
      "7b959eeaf6284730b91f9d92da0c7616",
      "3f2b287d40324bba972fdc9fd82de823",
      "36255e565b3c455e855a04dd990dec0c",
      "ec28888904fc4b508b1fd09a6351a28b",
      "0850b86f43414d21a6a46fe5069d49ee",
      "1213f7a6c89843efb80189f02913c603",
      "77d573c46eb54def9068528971df80e8",
      "070f3bc036694109a9b9317c5c05c003",
      "c3f0b4ca06554d348737bdb1c4cf300e",
      "69eda6b90ac24be198f828df0bd63bd4",
      "b44c8209e9cb4fd19f73c9d902b89220",
      "a175fbf5b9e04c34964f2c7c01f924da",
      "79036e419cae4a93bb02f60523001ef2",
      "0397baa447bf4dae8caa18d79db4fb82",
      "fdbaaf3e27aa4e8abf70771680076a39",
      "06d79efb9a864ada99cb9a290f50f021",
      "65bd4d606f7f4666a55f5441f622d17f",
      "5641a51d07e2459580bdb2bb28e3b0a5",
      "8d7ed4fb6c2543cb83a82dfddebe048f",
      "6afd8703d53a496ab54d96f71875569c",
      "5c1b5283c15047bfae7ad60fdac2de4d"
     ]
    },
    "id": "e7119253",
    "outputId": "a940dc81-923a-41ff-b414-3c770c8b9993"
   },
   "outputs": [
    {
     "data": {
      "application/vnd.jupyter.widget-view+json": {
       "model_id": "5ad302f8db9e43118513cfbd3a42ea0e",
       "version_major": 2,
       "version_minor": 0
      },
      "text/plain": [
       "tokenizer_config.json:   0%|          | 0.00/48.0 [00:00<?, ?B/s]"
      ]
     },
     "metadata": {},
     "output_type": "display_data"
    },
    {
     "data": {
      "application/vnd.jupyter.widget-view+json": {
       "model_id": "9ac8a1bee9b94dc39d947270232a28c1",
       "version_major": 2,
       "version_minor": 0
      },
      "text/plain": [
       "config.json:   0%|          | 0.00/570 [00:00<?, ?B/s]"
      ]
     },
     "metadata": {},
     "output_type": "display_data"
    },
    {
     "data": {
      "application/vnd.jupyter.widget-view+json": {
       "model_id": "0aaae90ce9df433691ae0edcfd00c21e",
       "version_major": 2,
       "version_minor": 0
      },
      "text/plain": [
       "vocab.txt:   0%|          | 0.00/232k [00:00<?, ?B/s]"
      ]
     },
     "metadata": {},
     "output_type": "display_data"
    },
    {
     "data": {
      "application/vnd.jupyter.widget-view+json": {
       "model_id": "9554a0e06af94630826e92a3ee782755",
       "version_major": 2,
       "version_minor": 0
      },
      "text/plain": [
       "tokenizer.json:   0%|          | 0.00/466k [00:00<?, ?B/s]"
      ]
     },
     "metadata": {},
     "output_type": "display_data"
    },
    {
     "name": "stdout",
     "output_type": "stream",
     "text": [
      "Train size: 32400 | Val size: 3600\n"
     ]
    },
    {
     "data": {
      "application/vnd.jupyter.widget-view+json": {
       "model_id": "b44c8209e9cb4fd19f73c9d902b89220",
       "version_major": 2,
       "version_minor": 0
      },
      "text/plain": [
       "model.safetensors:   0%|          | 0.00/440M [00:00<?, ?B/s]"
      ]
     },
     "metadata": {},
     "output_type": "display_data"
    },
    {
     "data": {
      "text/plain": [
       "RerankerModel(\n",
       "  (encoder): BertModel(\n",
       "    (embeddings): BertEmbeddings(\n",
       "      (word_embeddings): Embedding(30522, 768, padding_idx=0)\n",
       "      (position_embeddings): Embedding(512, 768)\n",
       "      (token_type_embeddings): Embedding(2, 768)\n",
       "      (LayerNorm): LayerNorm((768,), eps=1e-12, elementwise_affine=True)\n",
       "      (dropout): Dropout(p=0.1, inplace=False)\n",
       "    )\n",
       "    (encoder): BertEncoder(\n",
       "      (layer): ModuleList(\n",
       "        (0-11): 12 x BertLayer(\n",
       "          (attention): BertAttention(\n",
       "            (self): BertSdpaSelfAttention(\n",
       "              (query): Linear(in_features=768, out_features=768, bias=True)\n",
       "              (key): Linear(in_features=768, out_features=768, bias=True)\n",
       "              (value): Linear(in_features=768, out_features=768, bias=True)\n",
       "              (dropout): Dropout(p=0.1, inplace=False)\n",
       "            )\n",
       "            (output): BertSelfOutput(\n",
       "              (dense): Linear(in_features=768, out_features=768, bias=True)\n",
       "              (LayerNorm): LayerNorm((768,), eps=1e-12, elementwise_affine=True)\n",
       "              (dropout): Dropout(p=0.1, inplace=False)\n",
       "            )\n",
       "          )\n",
       "          (intermediate): BertIntermediate(\n",
       "            (dense): Linear(in_features=768, out_features=3072, bias=True)\n",
       "            (intermediate_act_fn): GELUActivation()\n",
       "          )\n",
       "          (output): BertOutput(\n",
       "            (dense): Linear(in_features=3072, out_features=768, bias=True)\n",
       "            (LayerNorm): LayerNorm((768,), eps=1e-12, elementwise_affine=True)\n",
       "            (dropout): Dropout(p=0.1, inplace=False)\n",
       "          )\n",
       "        )\n",
       "      )\n",
       "    )\n",
       "    (pooler): BertPooler(\n",
       "      (dense): Linear(in_features=768, out_features=768, bias=True)\n",
       "      (activation): Tanh()\n",
       "    )\n",
       "  )\n",
       "  (linear1): Linear(in_features=768, out_features=768, bias=True)\n",
       "  (activation): GELU(approximate='none')\n",
       "  (layernorm): LayerNorm((768,), eps=1e-05, elementwise_affine=True)\n",
       "  (dropout): Dropout(p=0.1, inplace=False)\n",
       "  (linear2): Linear(in_features=768, out_features=1, bias=True)\n",
       ")"
      ]
     },
     "execution_count": 4,
     "metadata": {},
     "output_type": "execute_result"
    }
   ],
   "source": [
    "from transformers import AutoTokenizer\n",
    "from torch.utils.data import DataLoader, random_split\n",
    "\n",
    "# Model configs\n",
    "MODEL_NAME = 'bert-base-uncased'\n",
    "MAX_LEN = 512\n",
    "\n",
    "# Training configs\n",
    "BATCH_SIZE = 16\n",
    "LEARNING_RATE = 2e-5\n",
    "NUM_EPOCHS = 3\n",
    "\n",
    "# Load tokenizer and dataset\n",
    "tokenizer = AutoTokenizer.from_pretrained(MODEL_NAME)\n",
    "file_path = 'drive/My Drive/Colab Notebooks/MovieRecs/training_dataset/reranker_train_36k_hard-negative_0805.jsonl'\n",
    "dataset = TripletDataset(file_path, tokenizer_name=MODEL_NAME, max_length=MAX_LEN)\n",
    "\n",
    "# Split into train/val\n",
    "train_size = int(0.9 * len(dataset))\n",
    "val_size = len(dataset) - train_size\n",
    "train_dataset, val_dataset = random_split(dataset, [train_size, val_size])\n",
    "print(f\"Train size: {len(train_dataset)} | Val size: {len(val_dataset)}\")\n",
    "\n",
    "train_loader = DataLoader(train_dataset, batch_size=BATCH_SIZE, shuffle=True)\n",
    "val_loader = DataLoader(val_dataset, batch_size=BATCH_SIZE)\n",
    "\n",
    "# Initialize model\n",
    "model = RerankerModel(model_name=MODEL_NAME)\n",
    "device = torch.device(\"cuda\" if torch.cuda.is_available() else \"cpu\")\n",
    "model.to(device)\n"
   ]
  },
  {
   "cell_type": "code",
   "execution_count": null,
   "id": "2fd5ae73",
   "metadata": {
    "id": "2fd5ae73"
   },
   "outputs": [],
   "source": [
    "from torch.optim import AdamW\n",
    "from transformers import get_scheduler\n",
    "\n",
    "# Exclude biases and layer norm weights from weight decay\n",
    "no_decay = [\"bias\", \"LayerNorm.weight\"]\n",
    "\n",
    "# Set weight decay coefficient for decay and no_decay groups\n",
    "optimizer_grouped_parameters = [\n",
    "    {\n",
    "        \"params\": [p for n, p in model.named_parameters() if not any(nd in n for nd in no_decay)],\n",
    "        \"weight_decay\": 0.01, # 0 for decay group\n",
    "    },\n",
    "    {\n",
    "        \"params\": [p for n, p in model.named_parameters() if any(nd in n for nd in no_decay)],\n",
    "        \"weight_decay\": 0.0, # 0 for no_decay group\n",
    "    },\n",
    "]\n",
    "\n",
    "# Initialize AdamW optimizer\n",
    "optimizer = AdamW(optimizer_grouped_parameters, lr=LEARNING_RATE)\n",
    "\n",
    "# Set warmup steps to 10%\n",
    "num_training_steps = len(train_loader) * NUM_EPOCHS\n",
    "num_warmup_steps = int(0.1 * num_training_steps)\n",
    "\n",
    "# Schedule linear learning rate warmup & decay - from 0 to LR during warmup; from LR to 0 rest of the steps\n",
    "scheduler = get_scheduler(\n",
    "    name=\"linear\",\n",
    "    optimizer=optimizer,\n",
    "    num_warmup_steps=num_warmup_steps,\n",
    "    num_training_steps=num_training_steps,\n",
    ")\n"
   ]
  },
  {
   "cell_type": "code",
   "execution_count": null,
   "id": "c786113c",
   "metadata": {
    "colab": {
     "base_uri": "https://localhost:8080/"
    },
    "id": "c786113c",
    "outputId": "614e8088-921c-4aa4-9467-bc5dd6886cc8"
   },
   "outputs": [
    {
     "name": "stdout",
     "output_type": "stream",
     "text": [
      "drive/My Drive/Colab Notebooks/MovieRecs/Reelix Reranker Model/movie_reranker_hard-negative_bert_20250805_1653\n"
     ]
    }
   ],
   "source": [
    "from datetime import datetime\n",
    "import zoneinfo\n",
    "\n",
    "# Create parameterized directory to save trained model\n",
    "def generate_model_dir(strategy_name: str, base_model: str) -> str:\n",
    "    base = \"drive/My Drive/Colab Notebooks/MovieRecs/Reelix Reranker Model/movie_reranker\"\n",
    "    timestamp = datetime.now(zoneinfo.ZoneInfo(\"America/Los_Angeles\")).strftime(\"%Y%m%d_%H%M\")\n",
    "    return f\"{base}_{strategy_name}_{base_model}_{timestamp}\"\n",
    "\n",
    "model_dir = generate_model_dir(strategy_name=\"hard-negative\", base_model=\"bert\")\n",
    "os.makedirs(model_dir, exist_ok=True)\n",
    "print(model_dir)"
   ]
  },
  {
   "cell_type": "code",
   "execution_count": null,
   "id": "0c2559cc",
   "metadata": {
    "colab": {
     "base_uri": "https://localhost:8080/"
    },
    "id": "0c2559cc",
    "outputId": "8f0aabc8-517b-4d2e-bf84-55d8f532304e"
   },
   "outputs": [
    {
     "name": "stdout",
     "output_type": "stream",
     "text": [
      "drive/My Drive/Colab Notebooks/MovieRecs/Reelix Reranker Model/movie_reranker_hard-negative_bert_20250805_1653/checkpoints\n"
     ]
    }
   ],
   "source": [
    "# Set up checkpoints saving\n",
    "save_dir = model_dir + \"/checkpoints\"\n",
    "os.makedirs(save_dir, exist_ok=True)\n",
    "print (save_dir)\n",
    "\n",
    "def save_checkpoint(model, optimizer, scheduler, epoch, filename):\n",
    "    torch.save({\n",
    "        'epoch': epoch,\n",
    "        'model_state_dict': model.state_dict(),\n",
    "        'optimizer_state_dict': optimizer.state_dict(),\n",
    "        'scheduler_state_dict': scheduler.state_dict(),\n",
    "    }, os.path.join(save_dir, filename))\n"
   ]
  },
  {
   "cell_type": "code",
   "execution_count": null,
   "id": "4a7a51da",
   "metadata": {
    "colab": {
     "base_uri": "https://localhost:8080/"
    },
    "id": "4a7a51da",
    "outputId": "9560933b-a721-4bd7-d4c7-1f1286bcbb93"
   },
   "outputs": [
    {
     "name": "stderr",
     "output_type": "stream",
     "text": [
      "\rEpoch 1 - Training:   0%|          | 0/2025 [00:00<?, ?it/s]/usr/local/lib/python3.11/dist-packages/torch/nn/modules/module.py:1750: FutureWarning: `encoder_attention_mask` is deprecated and will be removed in version 4.55.0 for `BertSdpaSelfAttention.forward`.\n",
      "  return forward_call(*args, **kwargs)\n",
      "Epoch 1 - Training: 100%|██████████| 2025/2025 [41:26<00:00,  1.23s/it]\n"
     ]
    },
    {
     "name": "stdout",
     "output_type": "stream",
     "text": [
      "Epoch 1 Train Loss: 0.3844\n",
      "Validation Loss: 0.2539 | Pairwise Accuracy: 0.8867\n",
      "Best model saved at epoch 1\n"
     ]
    },
    {
     "name": "stderr",
     "output_type": "stream",
     "text": [
      "Epoch 2 - Training: 100%|██████████| 2025/2025 [41:12<00:00,  1.22s/it]\n"
     ]
    },
    {
     "name": "stdout",
     "output_type": "stream",
     "text": [
      "Epoch 2 Train Loss: 0.2147\n",
      "Validation Loss: 0.2244 | Pairwise Accuracy: 0.9022\n",
      "Best model saved at epoch 2\n"
     ]
    },
    {
     "name": "stderr",
     "output_type": "stream",
     "text": [
      "Epoch 3 - Training: 100%|██████████| 2025/2025 [41:06<00:00,  1.22s/it]\n"
     ]
    },
    {
     "name": "stdout",
     "output_type": "stream",
     "text": [
      "Epoch 3 Train Loss: 0.1333\n",
      "Validation Loss: 0.2343 | Pairwise Accuracy: 0.9047\n"
     ]
    }
   ],
   "source": [
    "from tqdm import tqdm\n",
    "\n",
    "best_val_loss = float('inf')\n",
    "best_epoch = -1\n",
    "\n",
    "# Training loop\n",
    "for epoch in range(NUM_EPOCHS):\n",
    "    model.train()\n",
    "    total_loss = 0\n",
    "\n",
    "    for batch in tqdm(train_loader, desc=f\"Epoch {epoch+1} - Training\"):\n",
    "        # Extract model inputs from batch\n",
    "        input_ids_pos      = batch['input_ids_pos'].to(device)\n",
    "        attn_mask_pos      = batch['attention_mask_pos'].to(device)\n",
    "        token_type_ids_pos = batch['token_type_ids_pos'].to(device)\n",
    "\n",
    "        input_ids_neg      = batch['input_ids_neg'].to(device)\n",
    "        attn_mask_neg      = batch['attention_mask_neg'].to(device)\n",
    "        token_type_ids_neg = batch['token_type_ids_neg'].to(device)\n",
    "\n",
    "        # Forward pass\n",
    "        scores_pos = model(\n",
    "            input_ids=input_ids_pos,\n",
    "            attention_mask=attn_mask_pos,\n",
    "            token_type_ids=token_type_ids_pos\n",
    "        )\n",
    "        scores_neg = model(\n",
    "            input_ids=input_ids_neg,\n",
    "            attention_mask=attn_mask_neg,\n",
    "            token_type_ids=token_type_ids_neg\n",
    "        )\n",
    "\n",
    "        # Calculate Pairwise margin ranking loss\n",
    "        margin = 1.0\n",
    "        loss = torch.mean(torch.clamp(margin - (scores_pos - scores_neg), min=0))\n",
    "\n",
    "        # Backward pass\n",
    "        optimizer.zero_grad()\n",
    "        loss.backward()\n",
    "\n",
    "        # Gradient clipping\n",
    "        torch.nn.utils.clip_grad_norm_(model.parameters(), max_norm=1.0)\n",
    "\n",
    "        # Optimizer step\n",
    "        optimizer.step()\n",
    "        scheduler.step()\n",
    "\n",
    "        total_loss += loss.item()\n",
    "\n",
    "    # Compute training loss for the epoch\n",
    "    avg_train_loss = total_loss / len(train_loader)\n",
    "    print(f\"Epoch {epoch+1} Train Loss: {avg_train_loss:.4f}\")\n",
    "\n",
    "    # Validation Evaluation for the epoch\n",
    "    model.eval()\n",
    "    val_loss = 0\n",
    "    correct = 0\n",
    "    total = 0\n",
    "    margin_values = []\n",
    "\n",
    "    with torch.no_grad():\n",
    "        for batch in val_loader:\n",
    "            input_ids_pos      = batch['input_ids_pos'].to(device)\n",
    "            attn_mask_pos      = batch['attention_mask_pos'].to(device)\n",
    "            token_type_ids_pos = batch['token_type_ids_pos'].to(device)\n",
    "\n",
    "            input_ids_neg      = batch['input_ids_neg'].to(device)\n",
    "            attn_mask_neg      = batch['attention_mask_neg'].to(device)\n",
    "            token_type_ids_neg = batch['token_type_ids_neg'].to(device)\n",
    "\n",
    "            scores_pos = model(\n",
    "                input_ids=input_ids_pos,\n",
    "                attention_mask=attn_mask_pos,\n",
    "                token_type_ids=token_type_ids_pos\n",
    "            )\n",
    "            scores_neg = model(\n",
    "                input_ids=input_ids_neg,\n",
    "                attention_mask=attn_mask_neg,\n",
    "                token_type_ids=token_type_ids_neg\n",
    "            )\n",
    "\n",
    "            # Compute loss\n",
    "            margin = 1.0\n",
    "            loss = torch.mean(torch.clamp(margin - (scores_pos - scores_neg), min=0))\n",
    "            val_loss += loss.item()\n",
    "\n",
    "            # Pairwise accuracy - how often pos > neg\n",
    "            correct += (scores_pos > scores_neg).sum().item()\n",
    "            total += scores_pos.size(0)\n",
    "\n",
    "            # Track margin for each batch\n",
    "            margin_scores = (scores_pos - scores_neg).detach().cpu().numpy()\n",
    "            margin_values.extend(margin_scores)\n",
    "\n",
    "    avg_val_loss = val_loss / len(val_loader)\n",
    "    accuracy = correct / total\n",
    "\n",
    "    print(f\"Validation Loss: {avg_val_loss:.4f} | Pairwise Accuracy: {accuracy:.4f} | Avg score margin: {avg_margin:.4f}\")\n",
    "\n",
    "    # Save the best model & checkpoint\n",
    "    if avg_val_loss < best_val_loss:\n",
    "        best_val_loss = avg_val_loss\n",
    "        best_epoch = epoch + 1\n",
    "        torch.save(model.state_dict(), os.path.join(model_dir, \"reranker_best.pt\"))\n",
    "        save_checkpoint(model, optimizer, scheduler, epoch, \"reranker_best_checkpoint.pt\") # Also save the checkpoint\n",
    "        print(f\"Best model saved at epoch {best_epoch}\")\n"
   ]
  },
  {
   "cell_type": "code",
   "execution_count": null,
   "id": "6fed8683",
   "metadata": {
    "id": "6fed8683"
   },
   "outputs": [],
   "source": [
    "# Save final model\n",
    "torch.save(model.state_dict(), os.path.join(model_dir, \"reranker_final.pt\"))\n",
    "save_checkpoint(model, optimizer, scheduler, epoch, \"reranker_latest_checkpoint.pt\")\n",
    "print(\"Final model saved after training.\")\n",
    "\n",
    "# Report best checkpoint\n",
    "print(f\"\\nBest model: epoch {best_epoch} with val loss {best_val_loss:.4f}\")"
   ]
  },
  {
   "cell_type": "code",
   "execution_count": 3,
   "id": "85ffdd4e",
   "metadata": {},
   "outputs": [
    {
     "ename": "FileNotFoundError",
     "evalue": "[Errno 2] No such file or directory: 'your_notebook.ipynb'",
     "output_type": "error",
     "traceback": [
      "\u001b[31m---------------------------------------------------------------------------\u001b[39m",
      "\u001b[31mFileNotFoundError\u001b[39m                         Traceback (most recent call last)",
      "\u001b[36mCell\u001b[39m\u001b[36m \u001b[39m\u001b[32mIn[3]\u001b[39m\u001b[32m, line 5\u001b[39m\n\u001b[32m      1\u001b[39m \u001b[38;5;28;01mimport\u001b[39;00m\u001b[38;5;250m \u001b[39m\u001b[34;01mjson\u001b[39;00m\n\u001b[32m      3\u001b[39m path = \u001b[33m\"\u001b[39m\u001b[33myour_notebook.ipynb\u001b[39m\u001b[33m\"\u001b[39m\n\u001b[32m----> \u001b[39m\u001b[32m5\u001b[39m \u001b[38;5;28;01mwith\u001b[39;00m \u001b[38;5;28;43mopen\u001b[39;49m\u001b[43m(\u001b[49m\u001b[43mpath\u001b[49m\u001b[43m,\u001b[49m\u001b[43m \u001b[49m\u001b[33;43m\"\u001b[39;49m\u001b[33;43mr\u001b[39;49m\u001b[33;43m\"\u001b[39;49m\u001b[43m,\u001b[49m\u001b[43m \u001b[49m\u001b[43mencoding\u001b[49m\u001b[43m=\u001b[49m\u001b[33;43m\"\u001b[39;49m\u001b[33;43mutf-8\u001b[39;49m\u001b[33;43m\"\u001b[39;49m\u001b[43m)\u001b[49m \u001b[38;5;28;01mas\u001b[39;00m f:\n\u001b[32m      6\u001b[39m     nb = json.load(f)\n\u001b[32m      8\u001b[39m \u001b[38;5;28;01mif\u001b[39;00m \u001b[33m\"\u001b[39m\u001b[33mwidgets\u001b[39m\u001b[33m\"\u001b[39m \u001b[38;5;129;01min\u001b[39;00m nb.get(\u001b[33m\"\u001b[39m\u001b[33mmetadata\u001b[39m\u001b[33m\"\u001b[39m, {}):\n",
      "\u001b[36mFile \u001b[39m\u001b[32m~/Projects/RAG_Movie_Recommendation/.conda/lib/python3.13/site-packages/IPython/core/interactiveshell.py:326\u001b[39m, in \u001b[36m_modified_open\u001b[39m\u001b[34m(file, *args, **kwargs)\u001b[39m\n\u001b[32m    319\u001b[39m \u001b[38;5;28;01mif\u001b[39;00m file \u001b[38;5;129;01min\u001b[39;00m {\u001b[32m0\u001b[39m, \u001b[32m1\u001b[39m, \u001b[32m2\u001b[39m}:\n\u001b[32m    320\u001b[39m     \u001b[38;5;28;01mraise\u001b[39;00m \u001b[38;5;167;01mValueError\u001b[39;00m(\n\u001b[32m    321\u001b[39m         \u001b[33mf\u001b[39m\u001b[33m\"\u001b[39m\u001b[33mIPython won\u001b[39m\u001b[33m'\u001b[39m\u001b[33mt let you open fd=\u001b[39m\u001b[38;5;132;01m{\u001b[39;00mfile\u001b[38;5;132;01m}\u001b[39;00m\u001b[33m by default \u001b[39m\u001b[33m\"\u001b[39m\n\u001b[32m    322\u001b[39m         \u001b[33m\"\u001b[39m\u001b[33mas it is likely to crash IPython. If you know what you are doing, \u001b[39m\u001b[33m\"\u001b[39m\n\u001b[32m    323\u001b[39m         \u001b[33m\"\u001b[39m\u001b[33myou can use builtins\u001b[39m\u001b[33m'\u001b[39m\u001b[33m open.\u001b[39m\u001b[33m\"\u001b[39m\n\u001b[32m    324\u001b[39m     )\n\u001b[32m--> \u001b[39m\u001b[32m326\u001b[39m \u001b[38;5;28;01mreturn\u001b[39;00m \u001b[43mio_open\u001b[49m\u001b[43m(\u001b[49m\u001b[43mfile\u001b[49m\u001b[43m,\u001b[49m\u001b[43m \u001b[49m\u001b[43m*\u001b[49m\u001b[43margs\u001b[49m\u001b[43m,\u001b[49m\u001b[43m \u001b[49m\u001b[43m*\u001b[49m\u001b[43m*\u001b[49m\u001b[43mkwargs\u001b[49m\u001b[43m)\u001b[49m\n",
      "\u001b[31mFileNotFoundError\u001b[39m: [Errno 2] No such file or directory: 'your_notebook.ipynb'"
     ]
    }
   ],
   "source": [
    "import json\n",
    "\n",
    "path = \"your_notebook.ipynb\"\n",
    "\n",
    "with open(path, \"r\", encoding=\"utf-8\") as f:\n",
    "    nb = json.load(f)\n",
    "\n",
    "if \"widgets\" in nb.get(\"metadata\", {}):\n",
    "    del nb[\"metadata\"][\"widgets\"]\n",
    "\n",
    "with open(path, \"w\", encoding=\"utf-8\") as f:\n",
    "    json.dump(nb, f, indent=1, ensure_ascii=False)\n",
    "\n",
    "print(\"Removed widget metadata.\")\n"
   ]
  }
 ],
 "metadata": {
  "accelerator": "GPU",
  "colab": {
   "gpuType": "L4",
   "provenance": []
  },
  "kernelspec": {
   "display_name": ".conda",
   "language": "python",
   "name": "python3"
  },
  "language_info": {
   "codemirror_mode": {
    "name": "ipython",
    "version": 3
   },
   "file_extension": ".py",
   "mimetype": "text/x-python",
   "name": "python",
   "nbconvert_exporter": "python",
   "pygments_lexer": "ipython3",
   "version": "3.13.3"
  }
 },
 "nbformat": 4,
 "nbformat_minor": 5
}